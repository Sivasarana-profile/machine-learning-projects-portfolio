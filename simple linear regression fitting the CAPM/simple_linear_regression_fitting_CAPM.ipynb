{
 "cells": [
  {
   "cell_type": "code",
   "execution_count": null,
   "id": "35ad650c-2f71-404b-9bdf-b54db0ae0696",
   "metadata": {},
   "outputs": [],
   "source": [
    "import yfinance as yf\n",
    "import pandas as pd \n",
    "import matplotlib.pyplot as plt\n",
    "from datetime import datetime, timedelta\n",
    "import statsmodels.api as sm"
   ]
  },
  {
   "cell_type": "code",
   "execution_count": null,
   "id": "42ea1c38-efc6-4a39-b683-d2ffb854316d",
   "metadata": {},
   "outputs": [],
   "source": [
    "end_date = datetime.today()\n",
    "start_date = end_date - timedelta(weeks=26)\n",
    "\n",
    "# T-bill yield (^IRX)\n",
    "risk_free = yf.download(\"^IRX\", start=start_date, end=end_date)\n",
    "\n",
    "# decimal annual rate\n",
    "risk_free['Annual_Yield'] = risk_free['Close'] / 100\n",
    "\n",
    "#Convert annual → daily risk-free rate (assuming 252 trading days/year)\n",
    "trading_days = 252 #actual number of stock market trading days in a typical year U.S. exchanges\n",
    "risk_free['Daily_Rf'] = (1 + risk_free['Annual_Yield']) ** (1 / trading_days) - 1\n",
    "\n",
    "risk_free = risk_free[['Daily_Rf']].dropna()\n",
    "risk_free.reset_index(inplace=True)\n",
    "\n",
    "risk_free['Daily_Rf'] = risk_free['Daily_Rf']*100\n",
    "risk_free.columns = risk_free.columns.droplevel(1) \n",
    "print(risk_free.head(10))\n"
   ]
  },
  {
   "cell_type": "code",
   "execution_count": null,
   "id": "ed975aec-4a6e-4470-a18e-ec1f975b4339",
   "metadata": {},
   "outputs": [],
   "source": [
    "# 1. Download Apple and S&P 500 data (last 5 years)\n",
    "aapl = yf.download('AAPL', start=start_date, end=end_date)\n",
    "sp500 = yf.download('^GSPC', start=start_date, end=end_date)\n",
    "aapl.columns = aapl.columns.droplevel(1) \n",
    "sp500.columns = sp500.columns.droplevel(1) \n",
    "print(aapl.head(2))\n",
    "print(sp500.head(2))"
   ]
  },
  {
   "cell_type": "code",
   "execution_count": null,
   "id": "2389e5df-3a2e-4538-9cfc-077b323ded97",
   "metadata": {},
   "outputs": [],
   "source": [
    "# Calculate percentage change for multiple columns\n",
    "cols = ['Close', 'High', 'Low', 'Open']\n",
    "aapl[[col + '_pct_change' for col in cols]] = aapl[cols].pct_change() * 100\n",
    "sp500[[col + '_pct_change' for col in cols]] = sp500[cols].pct_change() * 100"
   ]
  },
  {
   "cell_type": "code",
   "execution_count": null,
   "id": "c59d8910-c74d-46e7-b789-1feaa5b78c9e",
   "metadata": {},
   "outputs": [],
   "source": [
    "\"\"\"\n",
    "In  AAPL price data, Close means the stock’s last trading price for the day (in USD).\n",
    "In  ^IRX risk-free rate data, Close is the annualized yield on the 3-month Treasury Bill at market close (in percentage terms).\n",
    "\"\"\""
   ]
  },
  {
   "cell_type": "code",
   "execution_count": null,
   "id": "c4cc3f2d-57f8-48e8-958b-984bbd1d0343",
   "metadata": {},
   "outputs": [],
   "source": [
    "fig, axs = plt.subplots(2, 2, figsize=(12, 8), sharex=True)\n",
    "fig.suptitle('Apple vs S&P 500 Stock Percentage Changes', fontsize=14)\n",
    "\n",
    "# Close\n",
    "axs[0,0].plot(aapl.index, aapl['Close_pct_change'], label='Apple', color='red')\n",
    "axs[0,0].plot(sp500.index, sp500['Close_pct_change'], label='S&P 500', color='blue')\n",
    "axs[0,0].set_title('Closing Price % Change')\n",
    "axs[0,0].legend()\n",
    "\n",
    "# Open\n",
    "axs[0,1].plot(aapl.index, aapl['Open_pct_change'], label='Apple', color='red')\n",
    "axs[0,1].plot(sp500.index, sp500['Open_pct_change'], label='S&P 500', color='blue')\n",
    "axs[0,1].set_title('Opening Price % Change')\n",
    "\n",
    "# Low\n",
    "axs[1,0].plot(aapl.index, aapl['Low_pct_change'], label='Apple', color='red')\n",
    "axs[1,0].plot(sp500.index, sp500['Low_pct_change'], label='S&P 500', color='blue')\n",
    "axs[1,0].set_title('Low Price % Change')\n",
    "axs[1,0].set_xlabel('Date')\n",
    "\n",
    "# High\n",
    "axs[1,1].plot(aapl.index, aapl['High_pct_change'], label='Apple', color='red')\n",
    "axs[1,1].plot(sp500.index, sp500['High_pct_change'], label='S&P 500', color='blue')\n",
    "axs[1,1].set_title('High Price % Change')\n",
    "axs[1,1].set_xlabel('Date')\n",
    "\n",
    "plt.tight_layout(rect=[0, 0, 1, 0.96])\n",
    "plt.show()\n"
   ]
  },
  {
   "cell_type": "code",
   "execution_count": null,
   "id": "04c4e4cd-66b5-4d49-9796-7dbbc399a9bc",
   "metadata": {},
   "outputs": [],
   "source": [
    "\"\"\"Apple (red) generally shows sharper and more frequent price swings compared to the S&P 500 (blue), indicating higher volatility.\n",
    "While both follow similar market trends, Apple’s movements are more pronounced during major events.\"\"\""
   ]
  },
  {
   "cell_type": "code",
   "execution_count": null,
   "id": "8b086910-5d5b-4568-b7e0-4911c3eb6d85",
   "metadata": {},
   "outputs": [],
   "source": [
    "# Merge datasets\n",
    "data = pd.merge(aapl, sp500, left_index=True, right_index=True, suffixes=('_AAPL', '_SP500'))\n",
    "data_refined = data[['Close_pct_change_AAPL','Close_pct_change_SP500']]\n",
    "data_mergered = pd.merge(data_refined,risk_free , on = 'Date', how = 'left')\n",
    "data_mergered['Excess_AAPL'] = data_mergered['Close_pct_change_AAPL'] - data_mergered['Daily_Rf']\n",
    "data_mergered['Excess_SP500'] = data_mergered['Close_pct_change_SP500'] - data_mergered['Daily_Rf']\n",
    "data_mergered = data_mergered.drop(index=0)  "
   ]
  },
  {
   "cell_type": "code",
   "execution_count": null,
   "id": "c6c674a9-7864-47bc-a6a8-d51205cb9a4a",
   "metadata": {},
   "outputs": [],
   "source": [
    "#  Run regression (CAPM)\n",
    "X = sm.add_constant(data_mergered['Excess_SP500'])  # add intercept for alpha\n",
    "y = data_mergered['Excess_AAPL']\n",
    "model = sm.OLS(y, X).fit()\n",
    "\n",
    "alpha, beta = model.params\n",
    "\n",
    "print(f\"Alpha: {alpha:.6f}\")\n",
    "print(f\"Beta: {beta:.4f}\")\n",
    "print(model.summary())"
   ]
  },
  {
   "cell_type": "code",
   "execution_count": null,
   "id": "1ab93659-a22d-4567-8fde-c0b95ac3effd",
   "metadata": {},
   "outputs": [],
   "source": [
    "\"\"\"\n",
    "Alpha (-0.0295):\n",
    "The intercept represents the expected excess return of Apple when the market’s excess return is zero. \n",
    "Here, it is slightly negative but statistically insignificant (p = 0.813), which means there is no evidence that Apple has a significant “alpha” \n",
    "(abnormal return independent of the market) in this sample.\n",
    "\n",
    "Beta (1.4086):\n",
    "The slope coefficient shows how much Apple’s excess return changes for a one-unit change in the market’s excess return. \n",
    "Since Beta is greater than 1, Apple is more volatile than the market. Specifically, for every 1% increase in the market’s excess return,\n",
    "Apple’s excess return tends to increase by approximately 1.41%. This beta is highly statistically significant (p < 0.001),\n",
    "indicating the market excess return is a strong predictor of Apple’s excess return.\n",
    "\n",
    "Model Fit\n",
    "R-squared =  0.702\n",
    "About 70% of the variation in Apple's excess returns is explained by the S&P 500 excess returns.\n",
    "The rest (30%) is unexplained by this simple model, possibly due to other factors or noise.\n",
    "(7O% of the variation is explained by the market, the rest is idiosyncratic)\n",
    "\n",
    "F-statistic = 287.7, p = 6.97e-34\n",
    "Very strong evidence the market excess return predicts Apple excess return.\n",
    "\n",
    "Residual diagnostics indicate some model assumptions could be improved:\n",
    "Some signs of non-normal residuals and slight autocorrelation suggest more complex models or additional factors might better capture Apple’s return dynamics.\n",
    "\"\"\""
   ]
  },
  {
   "cell_type": "code",
   "execution_count": null,
   "id": "df2306f7-ad1c-466f-8b4d-2cc4c8409a6e",
   "metadata": {},
   "outputs": [],
   "source": []
  }
 ],
 "metadata": {
  "kernelspec": {
   "display_name": "Python 3 (ipykernel)",
   "language": "python",
   "name": "python3"
  },
  "language_info": {
   "codemirror_mode": {
    "name": "ipython",
    "version": 3
   },
   "file_extension": ".py",
   "mimetype": "text/x-python",
   "name": "python",
   "nbconvert_exporter": "python",
   "pygments_lexer": "ipython3",
   "version": "3.9.7"
  }
 },
 "nbformat": 4,
 "nbformat_minor": 5
}
